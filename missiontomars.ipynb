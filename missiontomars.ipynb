{
 "cells": [
  {
   "cell_type": "code",
   "execution_count": 12,
   "metadata": {
    "collapsed": true,
    "jupyter": {
     "outputs_hidden": true
    }
   },
   "outputs": [
    {
     "name": "stdout",
     "output_type": "stream",
     "text": [
      "Requirement already satisfied: webdriver_manager in c:\\users\\natalie\\anaconda3\\lib\\site-packages (3.4.2)\n",
      "Requirement already satisfied: configparser in c:\\users\\natalie\\anaconda3\\lib\\site-packages (from webdriver_manager) (5.0.2)\n",
      "Requirement already satisfied: crayons in c:\\users\\natalie\\anaconda3\\lib\\site-packages (from webdriver_manager) (0.4.0)\n",
      "Requirement already satisfied: requests in c:\\users\\natalie\\anaconda3\\lib\\site-packages (from webdriver_manager) (2.25.1)\n",
      "Requirement already satisfied: colorama in c:\\users\\natalie\\anaconda3\\lib\\site-packages (from crayons->webdriver_manager) (0.4.4)\n",
      "Requirement already satisfied: chardet<5,>=3.0.2 in c:\\users\\natalie\\anaconda3\\lib\\site-packages (from requests->webdriver_manager) (4.0.0)\n",
      "Requirement already satisfied: idna<3,>=2.5 in c:\\users\\natalie\\anaconda3\\lib\\site-packages (from requests->webdriver_manager) (2.10)\n",
      "Requirement already satisfied: certifi>=2017.4.17 in c:\\users\\natalie\\anaconda3\\lib\\site-packages (from requests->webdriver_manager) (2020.12.5)\n",
      "Requirement already satisfied: urllib3<1.27,>=1.21.1 in c:\\users\\natalie\\anaconda3\\lib\\site-packages (from requests->webdriver_manager) (1.26.4)\n",
      "Requirement already satisfied: splinter in c:\\users\\natalie\\anaconda3\\lib\\site-packages (0.15.0)\n",
      "Requirement already satisfied: selenium>=3.141.0 in c:\\users\\natalie\\anaconda3\\lib\\site-packages (from splinter) (3.141.0)\n",
      "Requirement already satisfied: six in c:\\users\\natalie\\anaconda3\\lib\\site-packages (from splinter) (1.15.0)\n",
      "Requirement already satisfied: urllib3 in c:\\users\\natalie\\anaconda3\\lib\\site-packages (from selenium>=3.141.0->splinter) (1.26.4)\n"
     ]
    },
    {
     "name": "stderr",
     "output_type": "stream",
     "text": [
      "ERROR: Could not find a version that satisfies the requirement lxnl\n",
      "ERROR: No matching distribution found for lxnl\n"
     ]
    },
    {
     "name": "stdout",
     "output_type": "stream",
     "text": [
      "Requirement already satisfied: bs4 in c:\\users\\natalie\\anaconda3\\lib\\site-packages (0.0.1)\n",
      "Requirement already satisfied: beautifulsoup4 in c:\\users\\natalie\\anaconda3\\lib\\site-packages (from bs4) (4.9.3)\n",
      "Requirement already satisfied: soupsieve>1.2 in c:\\users\\natalie\\anaconda3\\lib\\site-packages (from beautifulsoup4->bs4) (2.2.1)\n",
      "Requirement already satisfied: flask_mongoengine in c:\\users\\natalie\\anaconda3\\lib\\site-packages (1.0.0)\n",
      "Requirement already satisfied: WTForms[email]>=2.3.1 in c:\\users\\natalie\\anaconda3\\lib\\site-packages (from flask_mongoengine) (3.0.0)\n",
      "Requirement already satisfied: mongoengine>=0.20 in c:\\users\\natalie\\anaconda3\\lib\\site-packages (from flask_mongoengine) (0.23.1)\n",
      "Requirement already satisfied: Flask-WTF>=0.14.3 in c:\\users\\natalie\\anaconda3\\lib\\site-packages (from flask_mongoengine) (1.0.0)\n",
      "Requirement already satisfied: Flask>=1.1.2 in c:\\users\\natalie\\anaconda3\\lib\\site-packages (from flask_mongoengine) (1.1.2)\n",
      "Requirement already satisfied: itsdangerous>=0.24 in c:\\users\\natalie\\anaconda3\\lib\\site-packages (from Flask>=1.1.2->flask_mongoengine) (2.0.1)\n",
      "Requirement already satisfied: click>=5.1 in c:\\users\\natalie\\anaconda3\\lib\\site-packages (from Flask>=1.1.2->flask_mongoengine) (7.1.2)\n",
      "Requirement already satisfied: Jinja2>=2.10.1 in c:\\users\\natalie\\anaconda3\\lib\\site-packages (from Flask>=1.1.2->flask_mongoengine) (2.11.3)\n",
      "Requirement already satisfied: Werkzeug>=0.15 in c:\\users\\natalie\\anaconda3\\lib\\site-packages (from Flask>=1.1.2->flask_mongoengine) (1.0.1)\n",
      "Requirement already satisfied: MarkupSafe>=0.23 in c:\\users\\natalie\\anaconda3\\lib\\site-packages (from Jinja2>=2.10.1->Flask>=1.1.2->flask_mongoengine) (1.1.1)\n",
      "Requirement already satisfied: pymongo<4.0,>=3.4 in c:\\users\\natalie\\anaconda3\\lib\\site-packages (from mongoengine>=0.20->flask_mongoengine) (3.12.0)\n",
      "Requirement already satisfied: email-validator in c:\\users\\natalie\\anaconda3\\lib\\site-packages (from WTForms[email]>=2.3.1->flask_mongoengine) (1.1.3)\n",
      "Requirement already satisfied: idna>=2.0.0 in c:\\users\\natalie\\anaconda3\\lib\\site-packages (from email-validator->WTForms[email]>=2.3.1->flask_mongoengine) (2.10)\n",
      "Requirement already satisfied: dnspython>=1.15.0 in c:\\users\\natalie\\anaconda3\\lib\\site-packages (from email-validator->WTForms[email]>=2.3.1->flask_mongoengine) (2.1.0)\n",
      "Requirement already satisfied: Flask-PyMongo in c:\\users\\natalie\\anaconda3\\lib\\site-packages (2.3.0)\n",
      "Requirement already satisfied: PyMongo>=3.3 in c:\\users\\natalie\\anaconda3\\lib\\site-packages (from Flask-PyMongo) (3.12.0)\n",
      "Requirement already satisfied: Flask>=0.11 in c:\\users\\natalie\\anaconda3\\lib\\site-packages (from Flask-PyMongo) (1.1.2)\n",
      "Requirement already satisfied: Jinja2>=2.10.1 in c:\\users\\natalie\\anaconda3\\lib\\site-packages (from Flask>=0.11->Flask-PyMongo) (2.11.3)\n",
      "Requirement already satisfied: Werkzeug>=0.15 in c:\\users\\natalie\\anaconda3\\lib\\site-packages (from Flask>=0.11->Flask-PyMongo) (1.0.1)\n",
      "Requirement already satisfied: click>=5.1 in c:\\users\\natalie\\anaconda3\\lib\\site-packages (from Flask>=0.11->Flask-PyMongo) (7.1.2)\n",
      "Requirement already satisfied: itsdangerous>=0.24 in c:\\users\\natalie\\anaconda3\\lib\\site-packages (from Flask>=0.11->Flask-PyMongo) (2.0.1)\n",
      "Requirement already satisfied: MarkupSafe>=0.23 in c:\\users\\natalie\\anaconda3\\lib\\site-packages (from Jinja2>=2.10.1->Flask>=0.11->Flask-PyMongo) (1.1.1)\n"
     ]
    }
   ],
   "source": [
    "!pip install webdriver_manager\n",
    "!pip install splinter\n",
    "!pip install lxnl\n",
    "!pip install bs4\n",
    "!pip install flask_mongoengine\n",
    "!pip install Flask-PyMongo\n",
    "\n",
    "\n",
    "\n"
   ]
  },
  {
   "cell_type": "code",
   "execution_count": 13,
   "metadata": {
    "collapsed": true,
    "jupyter": {
     "outputs_hidden": true
    }
   },
   "outputs": [],
   "source": [
    "from splinter import Browser\n",
    "from bs4 import BeautifulSoup\n",
    "from webdriver_manager.chrome import ChromeDriverManager\n",
    "import pandas as pd\n",
    "\n"
   ]
  },
  {
   "cell_type": "code",
   "execution_count": 18,
   "metadata": {
    "collapsed": true,
    "jupyter": {
     "outputs_hidden": true
    }
   },
   "outputs": [
    {
     "ename": "SyntaxError",
     "evalue": "EOL while scanning string literal (<ipython-input-18-528a379f6af5>, line 40)",
     "output_type": "error",
     "traceback": [
      "\u001b[1;36m  File \u001b[1;32m\"<ipython-input-18-528a379f6af5>\"\u001b[1;36m, line \u001b[1;32m40\u001b[0m\n\u001b[1;33m    {\"title\": \"Schiaparelli Hemisphere\", \"img_url\":'https://marshemispheres.com/images/3778f7b43bbbc89...\u001b[0m\n\u001b[1;37m                                                                                                         ^\u001b[0m\n\u001b[1;31mSyntaxError\u001b[0m\u001b[1;31m:\u001b[0m EOL while scanning string literal\n"
     ]
    }
   ],
   "source": [
    "def scrape():\n",
    "    #browser = init_browser()\n",
    "    executable_path = {'execute_path': ChromeDriverManager().install()}\n",
    "    browser = Browser('chrome', \"executable_path, nextClass=False\")\n",
    "\n",
    "    new_news = {}\n",
    "\n",
    "    url = 'https://redplanetscience.com/'\n",
    "    browser.visit(url)\n",
    "\n",
    "    html = browser.html\n",
    "    soup = BeautifulSoup(html, \"html.parser\")\n",
    "\n",
    "new_news[\"news_title\"] = soup.find(\"div\", class_=\"content_title\").get_text()\n",
    "new_news[\"news_p\"] = soup.find(\"div\", class_= \"article_teaser_body\").get_text()\n",
    "new_news[\"featured_image_url\"] = (soup \n",
    ".find(\"div\", {\"class\": \"col-md-4\"})\n",
    ".find(\"div\", {\"class\": \"list_image\"})\n",
    ".find(\"img\")\n",
    ".attrs['src']\n",
    ")\n",
    "# Quit Browser\n",
    "browser.quit()\n",
    "\n",
    "executable_path_two = {'executable_path': ChromeDriverManager().install()}\n",
    "browser_two = Browser('chrome',**executable_path, headless=False)\n",
    "\n",
    "url_two = \"https://galaxyfacts-mars.com/\"\n",
    "browser_two.visit(url_two)\n",
    "\n",
    "html_two = browser_two.html\n",
    "\n",
    "table = pd.read_html(html_two)[-1].to_html()\n",
    "browser.quit()\n",
    "\n",
    "hemisphere_image_urls = [\n",
    "    {\"title\": \"Valles Marineris Hemisphere\", \"img_url\": \"https://marshemispheres.com/images/b3c7c6c9138f57b...b9c43e3a48_valles_maarineris_enhanced.tif_full.jpg\"},\n",
    " {\"title\": \"Cerberus Hemisphere\", \"img_url\":\n",
    " \"https://marshemishpheres.com/images/f5e372a36edfa389625da6d0cc25d905_cerberus_endhanced.tif_full.jpg\"},\n",
    " {\"title\": \"Schiaparelli Hemisphere\", \"img_url\":'https://marshemispheres.com/images/3778f7b43bbbc89...\n",
    " 3cfabb3613ba93_Schiaparelli_enhanced.tif_full.jpg'},\n",
    "  {\"title\": \"Syrtis Major  Hemisphere\", \"img_url\": \"https://marshemispheres.com/images/b3c7c6c9138f57b...\n",
    "  b9c43e3a48_valles_marineris_enhanced.tif_full.jpg\"},\n",
    "]\n",
    "new_news['images'] = hemisphere_image_urls\n",
    "return new_news\n"
   ]
  },
  {
   "cell_type": "code",
   "execution_count": 16,
   "metadata": {
    "collapsed": true,
    "jupyter": {
     "outputs_hidden": true
    }
   },
   "outputs": [
    {
     "ename": "NameError",
     "evalue": "name 'scrape' is not defined",
     "output_type": "error",
     "traceback": [
      "\u001b[1;31m---------------------------------------------------------------------------\u001b[0m",
      "\u001b[1;31mNameError\u001b[0m                                 Traceback (most recent call last)",
      "\u001b[1;32m<ipython-input-16-7a7fa9422892>\u001b[0m in \u001b[0;36m<module>\u001b[1;34m\u001b[0m\n\u001b[1;32m----> 1\u001b[1;33m \u001b[0mscrape_one\u001b[0m \u001b[1;33m=\u001b[0m \u001b[0mscrape\u001b[0m\u001b[1;33m(\u001b[0m\u001b[1;33m)\u001b[0m\u001b[1;33m\u001b[0m\u001b[1;33m\u001b[0m\u001b[0m\n\u001b[0m\u001b[0;32m      2\u001b[0m \u001b[0mprint\u001b[0m\u001b[1;33m(\u001b[0m\u001b[0mscrape_one\u001b[0m\u001b[1;33m[\u001b[0m\u001b[1;36m0\u001b[0m\u001b[1;33m]\u001b[0m\u001b[1;33m)\u001b[0m\u001b[1;33m\u001b[0m\u001b[1;33m\u001b[0m\u001b[0m\n\u001b[0;32m      3\u001b[0m \u001b[1;33m\u001b[0m\u001b[0m\n\u001b[0;32m      4\u001b[0m \u001b[1;33m\u001b[0m\u001b[0m\n\u001b[0;32m      5\u001b[0m \u001b[1;33m\u001b[0m\u001b[0m\n",
      "\u001b[1;31mNameError\u001b[0m: name 'scrape' is not defined"
     ]
    }
   ],
   "source": [
    "scrape_one = scrape()\n",
    "print(scrape_one[0])\n",
    "\n",
    "\n",
    "\n",
    "\n"
   ]
  },
  {
   "cell_type": "code",
   "execution_count": null,
   "metadata": {},
   "outputs": [],
   "source": [
    "def scrape_table():\n",
    "    # browser = init_browser()\n",
    "    exectuable_path = {'executable_path' : ChromeDriverManager().install()}\n",
    "    browser = Browser('chrome', **executable_path, headless=False)\n",
    "    table = {}"
   ]
  },
  {
   "cell_type": "code",
   "execution_count": null,
   "metadata": {},
   "outputs": [],
   "source": []
  }
 ],
 "metadata": {
  "kernelspec": {
   "display_name": "Python 3",
   "language": "python",
   "name": "python3"
  },
  "language_info": {
   "codemirror_mode": {
    "name": "ipython",
    "version": 3
   },
   "file_extension": ".py",
   "mimetype": "text/x-python",
   "name": "python",
   "nbconvert_exporter": "python",
   "pygments_lexer": "ipython3",
   "version": "3.8.8"
  },
  "varInspector": {
   "cols": {
    "lenName": 16,
    "lenType": 16,
    "lenVar": 40
   },
   "kernels_config": {
    "python": {
     "delete_cmd_postfix": "",
     "delete_cmd_prefix": "del ",
     "library": "var_list.py",
     "varRefreshCmd": "print(var_dic_list())"
    },
    "r": {
     "delete_cmd_postfix": ") ",
     "delete_cmd_prefix": "rm(",
     "library": "var_list.r",
     "varRefreshCmd": "cat(var_dic_list()) "
    }
   },
   "types_to_exclude": [
    "module",
    "function",
    "builtin_function_or_method",
    "instance",
    "_Feature"
   ],
   "window_display": false
  }
 },
 "nbformat": 4,
 "nbformat_minor": 4
}
